{
 "cells": [
  {
   "cell_type": "markdown",
   "id": "4673f8f2",
   "metadata": {},
   "source": [
    "<img src=\"1.PNG\" width=\"1050px\" alt=\"Deskripsi Gambar\" />\n",
    "\n",
    "berikut adalah topologi jaringan sederhana: Topologi yang mensimulasikan koneksi jaringan antar 3 ruangan yang mencakup server, router, switch, pc client\n",
    "\n",
    "1. Komponen pertama ada server yaitu sebagai penyedia layanan web, memberikan layanan http/https, dan juga memberi IP DHCP untuk pc client (apa itu ip dhcp singkatnya ip dhcp adalah ip yang secara otomatis sudah disediakan oleh server itu sendiri).\n",
    "\n",
    "<img src=\"2.PNG\" width=\"65px\" alt=\"Deskripsi Gambar\" />\n",
    "\n",
    "2. Router itu bertindak sebagai pengatur lalu lintas data antar perangkat, sekaligus penghubung utama dari semua switch yang tersebar di jaringan, komponen ini jugalah yang berperan sebagai default gateway antara server dengan perangkat lainnya.\n",
    "\n",
    "<img src=\"3.PNG\" width=\"65px\" alt=\"Deskripsi Gambar\" />\n",
    "\n",
    "3. Switch berperan dalam meneruskan jaringan yang diberi oleh router dan yang disediakan oleh server, di sini terdapat 3 switch yang masing masing meneruskan layanan jaringan ke 3 pc client per switchnya.\n",
    "\n",
    "<img src=\"4.PNG\" width=\"65px\" alt=\"Deskripsi Gambar\" />\n",
    "\n",
    "4. pc client sngkatnya yaitu adalah kita sebagai user dari sebuah pc tersebut\n",
    "\n",
    "<img src=\"5.PNG\" width=\"65px\" alt=\"Deskripsi Gambar\" />"
   ]
  },
  {
   "cell_type": "markdown",
   "id": "b4e51d13",
   "metadata": {},
   "source": []
  }
 ],
 "metadata": {
  "language_info": {
   "name": "python"
  }
 },
 "nbformat": 4,
 "nbformat_minor": 5
}
